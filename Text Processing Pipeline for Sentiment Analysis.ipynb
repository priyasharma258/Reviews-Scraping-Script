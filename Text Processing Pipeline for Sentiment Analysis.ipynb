{
 "cells": [
  {
   "cell_type": "code",
   "execution_count": 3,
   "id": "e762d471-2dd7-4160-83df-0553a81753d0",
   "metadata": {},
   "outputs": [],
   "source": [
    "import pandas as pd \n",
    "df = pd.read_csv('Tripadvisor.csv') "
   ]
  },
  {
   "cell_type": "code",
   "execution_count": 4,
   "id": "6be3197a-50a2-49e3-910e-5258eb41d767",
   "metadata": {},
   "outputs": [
    {
     "data": {
      "text/html": [
       "<div>\n",
       "<style scoped>\n",
       "    .dataframe tbody tr th:only-of-type {\n",
       "        vertical-align: middle;\n",
       "    }\n",
       "\n",
       "    .dataframe tbody tr th {\n",
       "        vertical-align: top;\n",
       "    }\n",
       "\n",
       "    .dataframe thead th {\n",
       "        text-align: right;\n",
       "    }\n",
       "</style>\n",
       "<table border=\"1\" class=\"dataframe\">\n",
       "  <thead>\n",
       "    <tr style=\"text-align: right;\">\n",
       "      <th></th>\n",
       "      <th>Unnamed: 0</th>\n",
       "      <th>reviews</th>\n",
       "      <th>date</th>\n",
       "    </tr>\n",
       "  </thead>\n",
       "  <tbody>\n",
       "    <tr>\n",
       "      <th>0</th>\n",
       "      <td>0</td>\n",
       "      <td>terrible customer/business supportDate of expe...</td>\n",
       "      <td>Summary</td>\n",
       "    </tr>\n",
       "    <tr>\n",
       "      <th>1</th>\n",
       "      <td>1</td>\n",
       "      <td>Tripadvisor thrives on hate, not on honest re...</td>\n",
       "      <td>About</td>\n",
       "    </tr>\n",
       "    <tr>\n",
       "      <th>2</th>\n",
       "      <td>2</td>\n",
       "      <td>Reviews on restaurants when not dined.OK so we...</td>\n",
       "      <td>Reviews</td>\n",
       "    </tr>\n",
       "    <tr>\n",
       "      <th>3</th>\n",
       "      <td>3</td>\n",
       "      <td>Tripadvisor is the worst travel site!Tripadvis...</td>\n",
       "      <td>CZ</td>\n",
       "    </tr>\n",
       "    <tr>\n",
       "      <th>4</th>\n",
       "      <td>4</td>\n",
       "      <td>They refused to publish my negative…They refus...</td>\n",
       "      <td>1 review</td>\n",
       "    </tr>\n",
       "    <tr>\n",
       "      <th>...</th>\n",
       "      <td>...</td>\n",
       "      <td>...</td>\n",
       "      <td>...</td>\n",
       "    </tr>\n",
       "    <tr>\n",
       "      <th>3166</th>\n",
       "      <td>3166</td>\n",
       "      <td>Use and learnThe information on Trip advisor i...</td>\n",
       "      <td>US</td>\n",
       "    </tr>\n",
       "    <tr>\n",
       "      <th>3167</th>\n",
       "      <td>3167</td>\n",
       "      <td>Valued ServiceI wouldnt book any hotels withou...</td>\n",
       "      <td>4 reviews</td>\n",
       "    </tr>\n",
       "    <tr>\n",
       "      <th>3168</th>\n",
       "      <td>3168</td>\n",
       "      <td>Just as important as the actual holidayI dont ...</td>\n",
       "      <td>November 26, 2011</td>\n",
       "    </tr>\n",
       "    <tr>\n",
       "      <th>3169</th>\n",
       "      <td>3169</td>\n",
       "      <td>Not fairThey deactivated my account and delete...</td>\n",
       "      <td>GB</td>\n",
       "    </tr>\n",
       "    <tr>\n",
       "      <th>3170</th>\n",
       "      <td>3170</td>\n",
       "      <td>Excellent, safe, informative siteTripadvisor's...</td>\n",
       "      <td>8 reviews</td>\n",
       "    </tr>\n",
       "  </tbody>\n",
       "</table>\n",
       "<p>3171 rows × 3 columns</p>\n",
       "</div>"
      ],
      "text/plain": [
       "      Unnamed: 0                                            reviews  \\\n",
       "0              0  terrible customer/business supportDate of expe...   \n",
       "1              1   Tripadvisor thrives on hate, not on honest re...   \n",
       "2              2  Reviews on restaurants when not dined.OK so we...   \n",
       "3              3  Tripadvisor is the worst travel site!Tripadvis...   \n",
       "4              4  They refused to publish my negative…They refus...   \n",
       "...          ...                                                ...   \n",
       "3166        3166  Use and learnThe information on Trip advisor i...   \n",
       "3167        3167  Valued ServiceI wouldnt book any hotels withou...   \n",
       "3168        3168  Just as important as the actual holidayI dont ...   \n",
       "3169        3169  Not fairThey deactivated my account and delete...   \n",
       "3170        3170  Excellent, safe, informative siteTripadvisor's...   \n",
       "\n",
       "                   date  \n",
       "0               Summary  \n",
       "1                 About  \n",
       "2               Reviews  \n",
       "3                    CZ  \n",
       "4              1 review  \n",
       "...                 ...  \n",
       "3166                 US  \n",
       "3167          4 reviews  \n",
       "3168  November 26, 2011  \n",
       "3169                 GB  \n",
       "3170          8 reviews  \n",
       "\n",
       "[3171 rows x 3 columns]"
      ]
     },
     "execution_count": 4,
     "metadata": {},
     "output_type": "execute_result"
    }
   ],
   "source": [
    "df"
   ]
  },
  {
   "cell_type": "code",
   "execution_count": 5,
   "id": "a36922d8-2469-4cf8-8a39-2aa1f0d55fca",
   "metadata": {},
   "outputs": [
    {
     "data": {
      "text/plain": [
       "Index(['Unnamed: 0', 'reviews', 'date'], dtype='object')"
      ]
     },
     "execution_count": 5,
     "metadata": {},
     "output_type": "execute_result"
    }
   ],
   "source": [
    "df.columns"
   ]
  },
  {
   "cell_type": "markdown",
   "id": "c931151e-443a-4d9d-a310-f97fa92eb776",
   "metadata": {},
   "source": [
    "##Convert All Reviews to Lowercase"
   ]
  },
  {
   "cell_type": "code",
   "execution_count": 6,
   "id": "42604aca-ae77-4502-9835-7376ba472957",
   "metadata": {},
   "outputs": [],
   "source": [
    "df['reviews'] = df['reviews'].str.lower()"
   ]
  },
  {
   "cell_type": "code",
   "execution_count": 7,
   "id": "d43d6b59-4435-416e-a93b-c0431a8897d5",
   "metadata": {},
   "outputs": [
    {
     "data": {
      "text/plain": [
       "0    terrible customer/business supportdate of expe...\n",
       "1     tripadvisor thrives on hate, not on honest re...\n",
       "2    reviews on restaurants when not dined.ok so we...\n",
       "3    tripadvisor is the worst travel site!tripadvis...\n",
       "4    they refused to publish my negative…they refus...\n",
       "5    unfortunately tripadvisor refuses to…unfortuna...\n",
       "6    i booked abu dhabi desert safari bbq…i booked ...\n",
       "7    we make a report of a double review…we make a ...\n",
       "8    shitty servicethe do called manager my wife ta...\n",
       "Name: reviews, dtype: object"
      ]
     },
     "execution_count": 7,
     "metadata": {},
     "output_type": "execute_result"
    }
   ],
   "source": [
    "df.reviews.head(9)"
   ]
  },
  {
   "cell_type": "code",
   "execution_count": 8,
   "id": "daffb176-dff3-4eae-8c3a-0653f25c7969",
   "metadata": {},
   "outputs": [],
   "source": [
    "pd.set_option('display.max_colwidth', None)"
   ]
  },
  {
   "cell_type": "code",
   "execution_count": 9,
   "id": "e405ca24-78a6-4581-88b0-fe622cf589ce",
   "metadata": {},
   "outputs": [
    {
     "data": {
      "text/plain": [
       "\"advertised in australian dollars and…advertised in australian dollars and charged me in usd.it's a massive difference and i will never use tripadvisor again. they would not cancel my booking even though i called them within two minutes of booking a hotel.bad company and no moral compass. no good faith. 😕 goodbyedate of experience: april 07, 2025\""
      ]
     },
     "execution_count": 9,
     "metadata": {},
     "output_type": "execute_result"
    }
   ],
   "source": [
    "(df['reviews'].iloc[10])"
   ]
  },
  {
   "cell_type": "markdown",
   "id": "54f5422c-07dc-4c99-bb59-8ef9e2d91fce",
   "metadata": {},
   "source": [
    "# Remove Punctuation from Reviews"
   ]
  },
  {
   "cell_type": "code",
   "execution_count": 10,
   "id": "0805d88e-d7d8-4d57-9fef-7aa4ae0a66fa",
   "metadata": {},
   "outputs": [],
   "source": [
    "import string"
   ]
  },
  {
   "cell_type": "code",
   "execution_count": 11,
   "id": "89548e4e-ff82-417c-aa0d-8578bd17b952",
   "metadata": {},
   "outputs": [],
   "source": [
    "df['reviews'] = df['reviews'].apply(lambda x: x.translate(str.maketrans('', '', string.punctuation)))"
   ]
  },
  {
   "cell_type": "code",
   "execution_count": 12,
   "id": "f52d8e70-5894-4883-a9d3-c87939e15194",
   "metadata": {},
   "outputs": [
    {
     "data": {
      "text/plain": [
       "'advertised in australian dollars and…advertised in australian dollars and charged me in usdits a massive difference and i will never use tripadvisor again they would not cancel my booking even though i called them within two minutes of booking a hotelbad company and no moral compass no good faith 😕 goodbyedate of experience april 07 2025'"
      ]
     },
     "execution_count": 12,
     "metadata": {},
     "output_type": "execute_result"
    }
   ],
   "source": [
    "(df['reviews'].iloc[10])"
   ]
  },
  {
   "cell_type": "markdown",
   "id": "26c2b959-fc31-4b07-83af-ac8813ca44d1",
   "metadata": {},
   "source": [
    "# Remove emojis and special charaters from Reviews"
   ]
  },
  {
   "cell_type": "code",
   "execution_count": 13,
   "id": "b113bfa8-0d77-48cc-8c22-c95c0bf7f1bf",
   "metadata": {},
   "outputs": [
    {
     "name": "stdout",
     "output_type": "stream",
     "text": [
      "Requirement already satisfied: demoji in c:\\users\\priya\\appdata\\local\\programs\\python\\python312\\lib\\site-packages (1.1.0)\n"
     ]
    },
    {
     "name": "stderr",
     "output_type": "stream",
     "text": [
      "\n",
      "[notice] A new release of pip is available: 24.2 -> 25.0.1\n",
      "[notice] To update, run: python.exe -m pip install --upgrade pip\n"
     ]
    }
   ],
   "source": [
    "!pip install demoji"
   ]
  },
  {
   "cell_type": "code",
   "execution_count": 14,
   "id": "9f4c812a-28e1-44b6-bed9-a85497677941",
   "metadata": {},
   "outputs": [],
   "source": [
    "import re\n",
    "\n",
    "def remove_emoji(text):\n",
    "    emoji_pattern = re.compile(\n",
    "        \"[\"\n",
    "        u\"\\U0001F600-\\U0001F64F\"  # Emoticons\n",
    "        u\"\\U0001F300-\\U0001F5FF\"  # Symbols & Pictographs\n",
    "        u\"\\U0001F680-\\U0001F6FF\"  # Transport & Map Symbols\n",
    "        u\"\\U0001F1E0-\\U0001F1FF\"  # Flags\n",
    "        u\"\\U00002700-\\U000027BF\"  # Dingbats\n",
    "        u\"\\U000024C2-\\U0001F251\"  # Enclosed characters\n",
    "        \"]+\",\n",
    "        flags=re.UNICODE\n",
    "    )\n",
    "    return emoji_pattern.sub(r'', text)\n"
   ]
  },
  {
   "cell_type": "code",
   "execution_count": 15,
   "id": "864490f2-ef0e-4806-af0a-c8a1813b1ca6",
   "metadata": {},
   "outputs": [],
   "source": [
    "df['reviews'] = df['reviews'].apply(remove_emoji)"
   ]
  },
  {
   "cell_type": "code",
   "execution_count": 16,
   "id": "3ab0b865-a55d-4985-ad98-b22da92f2897",
   "metadata": {},
   "outputs": [
    {
     "data": {
      "text/plain": [
       "'advertised in australian dollars and…advertised in australian dollars and charged me in usdits a massive difference and i will never use tripadvisor again they would not cancel my booking even though i called them within two minutes of booking a hotelbad company and no moral compass no good faith  goodbyedate of experience april 07 2025'"
      ]
     },
     "execution_count": 16,
     "metadata": {},
     "output_type": "execute_result"
    }
   ],
   "source": [
    "(df['reviews'].iloc[10])"
   ]
  },
  {
   "cell_type": "markdown",
   "id": "0ad084c9-f8fe-41f8-9063-c3efe11fee85",
   "metadata": {},
   "source": [
    "# Remove extra space from reviews "
   ]
  },
  {
   "cell_type": "code",
   "execution_count": 17,
   "id": "0d998b03-5dd7-4892-8645-36b94f0a7a5c",
   "metadata": {},
   "outputs": [],
   "source": [
    " df['reviews'] = df['reviews'].astype(str).str.replace(r'\\d+', '', regex=True)"
   ]
  },
  {
   "cell_type": "code",
   "execution_count": 18,
   "id": "9699dc54-0cd4-4b65-9e39-aa587b347b10",
   "metadata": {},
   "outputs": [
    {
     "data": {
      "text/plain": [
       "'advertised in australian dollars and…advertised in australian dollars and charged me in usdits a massive difference and i will never use tripadvisor again they would not cancel my booking even though i called them within two minutes of booking a hotelbad company and no moral compass no good faith  goodbyedate of experience april  '"
      ]
     },
     "execution_count": 18,
     "metadata": {},
     "output_type": "execute_result"
    }
   ],
   "source": [
    "(df['reviews'].iloc[10])"
   ]
  },
  {
   "cell_type": "code",
   "execution_count": 19,
   "id": "764c7d67-e851-4e9a-838e-b7ab3f4e7e14",
   "metadata": {},
   "outputs": [],
   "source": [
    "df['reviews'] =df['reviews'].str.strip()"
   ]
  },
  {
   "cell_type": "code",
   "execution_count": 20,
   "id": "0504f6f3-9570-4f53-99bf-8fdffc4f7355",
   "metadata": {},
   "outputs": [
    {
     "data": {
      "text/plain": [
       "'advertised in australian dollars and…advertised in australian dollars and charged me in usdits a massive difference and i will never use tripadvisor again they would not cancel my booking even though i called them within two minutes of booking a hotelbad company and no moral compass no good faith  goodbyedate of experience april'"
      ]
     },
     "execution_count": 20,
     "metadata": {},
     "output_type": "execute_result"
    }
   ],
   "source": [
    "(df['reviews'].iloc[10])"
   ]
  },
  {
   "cell_type": "code",
   "execution_count": 22,
   "id": "b90b159b-1f5e-43ab-a79e-c6d646bcda54",
   "metadata": {},
   "outputs": [
    {
     "data": {
      "text/plain": [
       "'shitty servicethe do called manager my wife talked to was the most unprofessional person she has ever talked too all we tried to do was change hotels in the same city and he wouldnt and in fact said they didnt do that for people and after that we asked for a refund and he flat out refused and wouldnt connect us with anyone above him trip advisor is a jokedate of experience april'"
      ]
     },
     "execution_count": 22,
     "metadata": {},
     "output_type": "execute_result"
    }
   ],
   "source": [
    "df['reviews'].iloc[8]"
   ]
  },
  {
   "cell_type": "markdown",
   "id": "8189edad-eb54-4889-a67e-9b5e1e702458",
   "metadata": {},
   "source": [
    "# Tokenize the Reviews"
   ]
  },
  {
   "cell_type": "code",
   "execution_count": 23,
   "id": "36cc7af9-2fbe-4348-9060-9a4c95029019",
   "metadata": {},
   "outputs": [
    {
     "name": "stderr",
     "output_type": "stream",
     "text": [
      "[nltk_data] Downloading package punkt to\n",
      "[nltk_data]     C:\\Users\\priya\\AppData\\Roaming\\nltk_data...\n",
      "[nltk_data]   Package punkt is already up-to-date!\n"
     ]
    }
   ],
   "source": [
    "import nltk\n",
    "from nltk.tokenize import word_tokenize\n",
    "\n",
    "nltk.download('punkt')\n",
    "\n",
    "df['reviews'] = df['reviews'].astype(str).apply(word_tokenize)"
   ]
  },
  {
   "cell_type": "code",
   "execution_count": 24,
   "id": "70b5191b-b37e-4c0e-bcce-95f7de09aa42",
   "metadata": {},
   "outputs": [
    {
     "data": {
      "text/plain": [
       "['shitty',\n",
       " 'servicethe',\n",
       " 'do',\n",
       " 'called',\n",
       " 'manager',\n",
       " 'my',\n",
       " 'wife',\n",
       " 'talked',\n",
       " 'to',\n",
       " 'was',\n",
       " 'the',\n",
       " 'most',\n",
       " 'unprofessional',\n",
       " 'person',\n",
       " 'she',\n",
       " 'has',\n",
       " 'ever',\n",
       " 'talked',\n",
       " 'too',\n",
       " 'all',\n",
       " 'we',\n",
       " 'tried',\n",
       " 'to',\n",
       " 'do',\n",
       " 'was',\n",
       " 'change',\n",
       " 'hotels',\n",
       " 'in',\n",
       " 'the',\n",
       " 'same',\n",
       " 'city',\n",
       " 'and',\n",
       " 'he',\n",
       " 'wouldnt',\n",
       " 'and',\n",
       " 'in',\n",
       " 'fact',\n",
       " 'said',\n",
       " 'they',\n",
       " 'didnt',\n",
       " 'do',\n",
       " 'that',\n",
       " 'for',\n",
       " 'people',\n",
       " 'and',\n",
       " 'after',\n",
       " 'that',\n",
       " 'we',\n",
       " 'asked',\n",
       " 'for',\n",
       " 'a',\n",
       " 'refund',\n",
       " 'and',\n",
       " 'he',\n",
       " 'flat',\n",
       " 'out',\n",
       " 'refused',\n",
       " 'and',\n",
       " 'wouldnt',\n",
       " 'connect',\n",
       " 'us',\n",
       " 'with',\n",
       " 'anyone',\n",
       " 'above',\n",
       " 'him',\n",
       " 'trip',\n",
       " 'advisor',\n",
       " 'is',\n",
       " 'a',\n",
       " 'jokedate',\n",
       " 'of',\n",
       " 'experience',\n",
       " 'april']"
      ]
     },
     "execution_count": 24,
     "metadata": {},
     "output_type": "execute_result"
    }
   ],
   "source": [
    "(df['reviews'].iloc[8])"
   ]
  },
  {
   "cell_type": "markdown",
   "id": "5366bed6-34cf-4539-8024-9f7681134569",
   "metadata": {},
   "source": [
    " # Lemmatization "
   ]
  },
  {
   "cell_type": "code",
   "execution_count": 27,
   "id": "c8d71c61-05d9-4ec0-836c-a1938b4289a9",
   "metadata": {},
   "outputs": [],
   "source": [
    "import nltk\n",
    "from nltk.stem import WordNetLemmatizer\n",
    "from nltk.tokenize import word_tokenize\n",
    "from nltk import pos_tag"
   ]
  },
  {
   "cell_type": "code",
   "execution_count": 61,
   "id": "c3be6c87-3387-4ff9-aa0b-d3752e3aac90",
   "metadata": {},
   "outputs": [
    {
     "name": "stderr",
     "output_type": "stream",
     "text": [
      "[nltk_data] Downloading package wordnet to\n",
      "[nltk_data]     C:\\Users\\priya\\AppData\\Roaming\\nltk_data...\n",
      "[nltk_data]   Package wordnet is already up-to-date!\n",
      "[nltk_data] Downloading package omw-1.4 to\n",
      "[nltk_data]     C:\\Users\\priya\\AppData\\Roaming\\nltk_data...\n",
      "[nltk_data]   Package omw-1.4 is already up-to-date!\n",
      "[nltk_data] Downloading package punkt to\n",
      "[nltk_data]     C:\\Users\\priya\\AppData\\Roaming\\nltk_data...\n",
      "[nltk_data]   Package punkt is already up-to-date!\n",
      "[nltk_data] Downloading package averaged_perceptron_tagger to\n",
      "[nltk_data]     C:\\Users\\priya\\AppData\\Roaming\\nltk_data...\n",
      "[nltk_data]   Package averaged_perceptron_tagger is already up-to-\n",
      "[nltk_data]       date!\n"
     ]
    },
    {
     "data": {
      "text/plain": [
       "True"
      ]
     },
     "execution_count": 61,
     "metadata": {},
     "output_type": "execute_result"
    }
   ],
   "source": [
    "nltk.download('wordnet')\n",
    "nltk.download('omw-1.4')\n",
    "nltk.download('punkt')\n",
    "nltk.download('averaged_perceptron_tagger')"
   ]
  },
  {
   "cell_type": "code",
   "execution_count": 25,
   "id": "b82dd1c1-1c12-46cf-b29c-e3ab48b45ce7",
   "metadata": {},
   "outputs": [
    {
     "data": {
      "text/html": [
       "<div>\n",
       "<style scoped>\n",
       "    .dataframe tbody tr th:only-of-type {\n",
       "        vertical-align: middle;\n",
       "    }\n",
       "\n",
       "    .dataframe tbody tr th {\n",
       "        vertical-align: top;\n",
       "    }\n",
       "\n",
       "    .dataframe thead th {\n",
       "        text-align: right;\n",
       "    }\n",
       "</style>\n",
       "<table border=\"1\" class=\"dataframe\">\n",
       "  <thead>\n",
       "    <tr style=\"text-align: right;\">\n",
       "      <th></th>\n",
       "      <th>Unnamed: 0</th>\n",
       "      <th>reviews</th>\n",
       "      <th>date</th>\n",
       "    </tr>\n",
       "  </thead>\n",
       "  <tbody>\n",
       "    <tr>\n",
       "      <th>0</th>\n",
       "      <td>0</td>\n",
       "      <td>[terrible, customerbusiness, supportdate, of, experience, april]</td>\n",
       "      <td>Summary</td>\n",
       "    </tr>\n",
       "    <tr>\n",
       "      <th>1</th>\n",
       "      <td>1</td>\n",
       "      <td>[tripadvisor, thrives, on, hate, not, on, honest, reviewsit, ’, s, no, secret, anymore, tripadvisor, has, become, the, platform, for, hate, and, resentmentyou, spend, enormous, amounts, on, google, ads, to, build, a, positive, image, but, reality, tells, a, different, story, just, search, tripadvisor, reputation, and, youll, see, the, truth, for, yourselfif, every, customer, were, obligated, to, leave, a, review, tripadvisor, wouldnt, survive, —, the, positive, feedback, would, be, so, overwhelming, that, the, hate, machine, you, rely, on, would, collapse, overnightweve, received, multiple, travelers, choice, awards, over, the, years, but, we, consciously, choose, not, to, display, or, advertise, them, why, because, in, ...]</td>\n",
       "      <td>About</td>\n",
       "    </tr>\n",
       "    <tr>\n",
       "      <th>2</th>\n",
       "      <td>2</td>\n",
       "      <td>[reviews, on, restaurants, when, not, dinedok, so, weve, had, a, few, star, reviews, which, is, fair, enough, on, our, new, business, however, most, are, from, people, who, havent, booked, although, clearly, advertised, on, our, social, media, and, website, we, strongly, advise, to, book, a, table, to, avoid, disappointment, now, how, is, it, fair, to, leave, a, star, review, because, the, restaurant, was, too, busy, to, accept, you, i, have, reported, this, to, trip, advisor, but, apparently, it, meets, their, guidelines, this, seems, really, unfairdate, of, experience, april]</td>\n",
       "      <td>Reviews</td>\n",
       "    </tr>\n",
       "    <tr>\n",
       "      <th>3</th>\n",
       "      <td>3</td>\n",
       "      <td>[tripadvisor, is, the, worst, travel, sitetripadvisor, is, the, worst, travel, site, on, the, internet, you, cant, find, anything, other, than, a, rabbit, hole, that, lead, off, into, the, carrot, patch, unbelievably, bad, programming, and, impossible, to, maneuver, even, for, internetsavvy, people, like, myself, a, major, thumbs, down, on, tripadvisordate, of, experience, april]</td>\n",
       "      <td>CZ</td>\n",
       "    </tr>\n",
       "    <tr>\n",
       "      <th>4</th>\n",
       "      <td>4</td>\n",
       "      <td>[they, refused, to, publish, my, negative…they, refused, to, publish, my, negative, reviews, on, brahma, temple, in, pushkar, and, mathura, both, in, india, because, system, thinks, that, they, might, be, violating, guidelines, which, they, obviously, dont, date, of, experience, april]</td>\n",
       "      <td>1 review</td>\n",
       "    </tr>\n",
       "    <tr>\n",
       "      <th>...</th>\n",
       "      <td>...</td>\n",
       "      <td>...</td>\n",
       "      <td>...</td>\n",
       "    </tr>\n",
       "    <tr>\n",
       "      <th>3166</th>\n",
       "      <td>3166</td>\n",
       "      <td>[use, and, learnthe, information, on, trip, advisor, is, mind, blowinglots, of, places, and, lots, of, reviewsi, dont, book, anywhere, untill, i, have, checked, out, the, place, on, trip, advisorohh, and, its, free, to, usedate, of, experience, september]</td>\n",
       "      <td>US</td>\n",
       "    </tr>\n",
       "    <tr>\n",
       "      <th>3167</th>\n",
       "      <td>3167</td>\n",
       "      <td>[valued, servicei, wouldnt, book, any, hotels, without, looking, at, travel, advisor, first, fantasticdate, of, experience, september]</td>\n",
       "      <td>4 reviews</td>\n",
       "    </tr>\n",
       "    <tr>\n",
       "      <th>3168</th>\n",
       "      <td>3168</td>\n",
       "      <td>[just, as, important, as, the, actual, holidayi, dont, know, anybody, who, doesnt, use, this, site, prior, to, making, travel, plans, we, all, want, to, enjoy, our, holidays, and, get, our, moneys, worth, so, doing, some, research, prior, to, your, trip, is, becoming, more, and, more, important, fellow, travellers, write, reviews, on, accommodation, restaurants, and, attractions, on, the, whole, reviews, are, honest, tothepoint, and, highlight, the, pros, and, cons, and, some, of, them, have, got, handy, tips, for, making, your, trip, that, little, bit, easier, the, site, is, pretty, easy, to, navigate, once, you, are, used, to, it, and, best, of, ...]</td>\n",
       "      <td>November 26, 2011</td>\n",
       "    </tr>\n",
       "    <tr>\n",
       "      <th>3169</th>\n",
       "      <td>3169</td>\n",
       "      <td>[not, fairthey, deactivated, my, account, and, deleted, my, forum, and, reviews, i, think, they, were, protecting, splendia, because, it, was, about, splendias, not, giving, back, the, depositsdate, of, experience, may]</td>\n",
       "      <td>GB</td>\n",
       "    </tr>\n",
       "    <tr>\n",
       "      <th>3170</th>\n",
       "      <td>3170</td>\n",
       "      <td>[excellent, safe, informative, sitetripadvisors, business, is, based, on, users, writing, reviews, of, hotels, airlines, and, tour, packages, i, have, been, using, this, site, and, find, it, serious, and, reliable, they, review, all, reviews, submitted, to, them, so, when, you, post, theres, a, short, delay, while, i, guess, one, of, their, staff, takes, a, quick, look, at, your, posting, they, post, ads, on, the, site, and, also, have, their, own, hotel, booking, system, which, you, dont, have, to, use, in, order, to, get, the, info, and, which, is, not, intrusive, at, all, you, dont, need, to, register, to, use, the, site, ...]</td>\n",
       "      <td>8 reviews</td>\n",
       "    </tr>\n",
       "  </tbody>\n",
       "</table>\n",
       "<p>3171 rows × 3 columns</p>\n",
       "</div>"
      ],
      "text/plain": [
       "      Unnamed: 0  \\\n",
       "0              0   \n",
       "1              1   \n",
       "2              2   \n",
       "3              3   \n",
       "4              4   \n",
       "...          ...   \n",
       "3166        3166   \n",
       "3167        3167   \n",
       "3168        3168   \n",
       "3169        3169   \n",
       "3170        3170   \n",
       "\n",
       "                                                                                                                                                                                                                                                                                                                                                                                                                                                                                                                                                                                                                                                                                                                                                             reviews  \\\n",
       "0                                                                                                                                                                                                                                                                                                                                                                                                                                                                                                                                                                                                                                                                                                   [terrible, customerbusiness, supportdate, of, experience, april]   \n",
       "1     [tripadvisor, thrives, on, hate, not, on, honest, reviewsit, ’, s, no, secret, anymore, tripadvisor, has, become, the, platform, for, hate, and, resentmentyou, spend, enormous, amounts, on, google, ads, to, build, a, positive, image, but, reality, tells, a, different, story, just, search, tripadvisor, reputation, and, youll, see, the, truth, for, yourselfif, every, customer, were, obligated, to, leave, a, review, tripadvisor, wouldnt, survive, —, the, positive, feedback, would, be, so, overwhelming, that, the, hate, machine, you, rely, on, would, collapse, overnightweve, received, multiple, travelers, choice, awards, over, the, years, but, we, consciously, choose, not, to, display, or, advertise, them, why, because, in, ...]   \n",
       "2                                                                                                                                                           [reviews, on, restaurants, when, not, dinedok, so, weve, had, a, few, star, reviews, which, is, fair, enough, on, our, new, business, however, most, are, from, people, who, havent, booked, although, clearly, advertised, on, our, social, media, and, website, we, strongly, advise, to, book, a, table, to, avoid, disappointment, now, how, is, it, fair, to, leave, a, star, review, because, the, restaurant, was, too, busy, to, accept, you, i, have, reported, this, to, trip, advisor, but, apparently, it, meets, their, guidelines, this, seems, really, unfairdate, of, experience, april]   \n",
       "3                                                                                                                                                                                                                                                                                                                                                                     [tripadvisor, is, the, worst, travel, sitetripadvisor, is, the, worst, travel, site, on, the, internet, you, cant, find, anything, other, than, a, rabbit, hole, that, lead, off, into, the, carrot, patch, unbelievably, bad, programming, and, impossible, to, maneuver, even, for, internetsavvy, people, like, myself, a, major, thumbs, down, on, tripadvisordate, of, experience, april]   \n",
       "4                                                                                                                                                                                                                                                                                                                                                                                                                                                                     [they, refused, to, publish, my, negative…they, refused, to, publish, my, negative, reviews, on, brahma, temple, in, pushkar, and, mathura, both, in, india, because, system, thinks, that, they, might, be, violating, guidelines, which, they, obviously, dont, date, of, experience, april]   \n",
       "...                                                                                                                                                                                                                                                                                                                                                                                                                                                                                                                                                                                                                                                                                                                                                              ...   \n",
       "3166                                                                                                                                                                                                                                                                                                                                                                                                                                                                                                 [use, and, learnthe, information, on, trip, advisor, is, mind, blowinglots, of, places, and, lots, of, reviewsi, dont, book, anywhere, untill, i, have, checked, out, the, place, on, trip, advisorohh, and, its, free, to, usedate, of, experience, september]   \n",
       "3167                                                                                                                                                                                                                                                                                                                                                                                                                                                                                                                                                                                                                          [valued, servicei, wouldnt, book, any, hotels, without, looking, at, travel, advisor, first, fantasticdate, of, experience, september]   \n",
       "3168                                                                            [just, as, important, as, the, actual, holidayi, dont, know, anybody, who, doesnt, use, this, site, prior, to, making, travel, plans, we, all, want, to, enjoy, our, holidays, and, get, our, moneys, worth, so, doing, some, research, prior, to, your, trip, is, becoming, more, and, more, important, fellow, travellers, write, reviews, on, accommodation, restaurants, and, attractions, on, the, whole, reviews, are, honest, tothepoint, and, highlight, the, pros, and, cons, and, some, of, them, have, got, handy, tips, for, making, your, trip, that, little, bit, easier, the, site, is, pretty, easy, to, navigate, once, you, are, used, to, it, and, best, of, ...]   \n",
       "3169                                                                                                                                                                                                                                                                                                                                                                                                                                                                                                                                     [not, fairthey, deactivated, my, account, and, deleted, my, forum, and, reviews, i, think, they, were, protecting, splendia, because, it, was, about, splendias, not, giving, back, the, depositsdate, of, experience, may]   \n",
       "3170                                                                                                   [excellent, safe, informative, sitetripadvisors, business, is, based, on, users, writing, reviews, of, hotels, airlines, and, tour, packages, i, have, been, using, this, site, and, find, it, serious, and, reliable, they, review, all, reviews, submitted, to, them, so, when, you, post, theres, a, short, delay, while, i, guess, one, of, their, staff, takes, a, quick, look, at, your, posting, they, post, ads, on, the, site, and, also, have, their, own, hotel, booking, system, which, you, dont, have, to, use, in, order, to, get, the, info, and, which, is, not, intrusive, at, all, you, dont, need, to, register, to, use, the, site, ...]   \n",
       "\n",
       "                   date  \n",
       "0               Summary  \n",
       "1                 About  \n",
       "2               Reviews  \n",
       "3                    CZ  \n",
       "4              1 review  \n",
       "...                 ...  \n",
       "3166                 US  \n",
       "3167          4 reviews  \n",
       "3168  November 26, 2011  \n",
       "3169                 GB  \n",
       "3170          8 reviews  \n",
       "\n",
       "[3171 rows x 3 columns]"
      ]
     },
     "execution_count": 25,
     "metadata": {},
     "output_type": "execute_result"
    }
   ],
   "source": [
    "df"
   ]
  },
  {
   "cell_type": "code",
   "execution_count": 28,
   "id": "1d3bdc25-f99f-41ea-8d4e-fbb0492418be",
   "metadata": {},
   "outputs": [],
   "source": [
    "lemmatizer = WordNetLemmatizer()"
   ]
  },
  {
   "cell_type": "code",
   "execution_count": 29,
   "id": "b78e3770-6838-419a-8c8b-449617fbbb04",
   "metadata": {},
   "outputs": [],
   "source": [
    "def lemmatize_text(tokens):\n",
    "    lemmatized_tokens = []\n",
    "    \n",
    "    for word in tokens:\n",
    "      \n",
    "        pos_tagged = pos_tag([word])[0][1]  \n",
    "        \n",
    "        # Convert POS tag to WordNet POS tag format\n",
    "        if pos_tagged.startswith('V'):  # Verb\n",
    "            pos = 'v'\n",
    "        elif pos_tagged.startswith('N'):  # Noun\n",
    "            pos = 'n'\n",
    "        elif pos_tagged.startswith('J'):  # Adjective\n",
    "            pos = 'a'\n",
    "        else:\n",
    "            pos = 'n'  # Default to noun if no match\n",
    "\n",
    "        \n",
    "        lemmatized_word = lemmatizer.lemmatize(word, pos)\n",
    "        lemmatized_tokens.append(lemmatized_word)\n",
    "\n",
    "    return lemmatized_tokens\n"
   ]
  },
  {
   "cell_type": "code",
   "execution_count": 30,
   "id": "324c33ce-6a54-4f23-a8ba-3e82cdb6a1d3",
   "metadata": {},
   "outputs": [],
   "source": [
    "df['lemmatized_reviews'] = df['reviews'].apply(lambda tokens: lemmatize_text(tokens))"
   ]
  },
  {
   "cell_type": "code",
   "execution_count": 34,
   "id": "d521eeb1-a199-4aae-8bc1-19cbb4a184dc",
   "metadata": {},
   "outputs": [
    {
     "data": {
      "text/plain": [
       "Index(['Unnamed: 0', 'reviews', 'date', 'lemmatized_reviews'], dtype='object')"
      ]
     },
     "execution_count": 34,
     "metadata": {},
     "output_type": "execute_result"
    }
   ],
   "source": [
    "df.columns"
   ]
  },
  {
   "cell_type": "code",
   "execution_count": 35,
   "id": "cc7ebe32-411b-4c70-8c56-04b8fe006f13",
   "metadata": {},
   "outputs": [],
   "source": [
    "del df[ 'reviews']"
   ]
  },
  {
   "cell_type": "code",
   "execution_count": 37,
   "id": "4490260d-2487-405f-aff2-38c43e44d37a",
   "metadata": {},
   "outputs": [],
   "source": [
    "del df['Unnamed: 0']"
   ]
  },
  {
   "cell_type": "code",
   "execution_count": 38,
   "id": "6efb2356-7760-4cdd-b17e-2115947159b1",
   "metadata": {},
   "outputs": [
    {
     "data": {
      "text/html": [
       "<div>\n",
       "<style scoped>\n",
       "    .dataframe tbody tr th:only-of-type {\n",
       "        vertical-align: middle;\n",
       "    }\n",
       "\n",
       "    .dataframe tbody tr th {\n",
       "        vertical-align: top;\n",
       "    }\n",
       "\n",
       "    .dataframe thead th {\n",
       "        text-align: right;\n",
       "    }\n",
       "</style>\n",
       "<table border=\"1\" class=\"dataframe\">\n",
       "  <thead>\n",
       "    <tr style=\"text-align: right;\">\n",
       "      <th></th>\n",
       "      <th>date</th>\n",
       "      <th>lemmatized_reviews</th>\n",
       "    </tr>\n",
       "  </thead>\n",
       "  <tbody>\n",
       "    <tr>\n",
       "      <th>0</th>\n",
       "      <td>Summary</td>\n",
       "      <td>[terrible, customerbusiness, supportdate, of, experience, april]</td>\n",
       "    </tr>\n",
       "    <tr>\n",
       "      <th>1</th>\n",
       "      <td>About</td>\n",
       "      <td>[tripadvisor, thrives, on, hate, not, on, honest, reviewsit, ’, s, no, secret, anymore, tripadvisor, have, become, the, platform, for, hate, and, resentmentyou, spend, enormous, amount, on, google, ad, to, build, a, positive, image, but, reality, tell, a, different, story, just, search, tripadvisor, reputation, and, youll, see, the, truth, for, yourselfif, every, customer, be, obligate, to, leave, a, review, tripadvisor, wouldnt, survive, —, the, positive, feedback, would, be, so, overwhelm, that, the, hate, machine, you, rely, on, would, collapse, overnightweve, receive, multiple, traveler, choice, award, over, the, year, but, we, consciously, choose, not, to, display, or, advertise, them, why, because, in, ...]</td>\n",
       "    </tr>\n",
       "    <tr>\n",
       "      <th>2</th>\n",
       "      <td>Reviews</td>\n",
       "      <td>[review, on, restaurant, when, not, dinedok, so, weve, have, a, few, star, review, which, be, fair, enough, on, our, new, business, however, most, be, from, people, who, havent, book, although, clearly, advertised, on, our, social, medium, and, website, we, strongly, advise, to, book, a, table, to, avoid, disappointment, now, how, be, it, fair, to, leave, a, star, review, because, the, restaurant, be, too, busy, to, accept, you, i, have, report, this, to, trip, advisor, but, apparently, it, meet, their, guideline, this, seem, really, unfairdate, of, experience, april]</td>\n",
       "    </tr>\n",
       "    <tr>\n",
       "      <th>3</th>\n",
       "      <td>CZ</td>\n",
       "      <td>[tripadvisor, be, the, bad, travel, sitetripadvisor, be, the, bad, travel, site, on, the, internet, you, cant, find, anything, other, than, a, rabbit, hole, that, lead, off, into, the, carrot, patch, unbelievably, bad, program, and, impossible, to, maneuver, even, for, internetsavvy, people, like, myself, a, major, thumb, down, on, tripadvisordate, of, experience, april]</td>\n",
       "    </tr>\n",
       "    <tr>\n",
       "      <th>4</th>\n",
       "      <td>1 review</td>\n",
       "      <td>[they, refuse, to, publish, my, negative…they, refuse, to, publish, my, negative, review, on, brahma, temple, in, pushkar, and, mathura, both, in, india, because, system, think, that, they, might, be, violate, guideline, which, they, obviously, dont, date, of, experience, april]</td>\n",
       "    </tr>\n",
       "    <tr>\n",
       "      <th>...</th>\n",
       "      <td>...</td>\n",
       "      <td>...</td>\n",
       "    </tr>\n",
       "    <tr>\n",
       "      <th>3166</th>\n",
       "      <td>US</td>\n",
       "      <td>[use, and, learnthe, information, on, trip, advisor, be, mind, blowinglots, of, place, and, lot, of, reviewsi, dont, book, anywhere, untill, i, have, checked, out, the, place, on, trip, advisorohh, and, it, free, to, usedate, of, experience, september]</td>\n",
       "    </tr>\n",
       "    <tr>\n",
       "      <th>3167</th>\n",
       "      <td>4 reviews</td>\n",
       "      <td>[value, servicei, wouldnt, book, any, hotel, without, look, at, travel, advisor, first, fantasticdate, of, experience, september]</td>\n",
       "    </tr>\n",
       "    <tr>\n",
       "      <th>3168</th>\n",
       "      <td>November 26, 2011</td>\n",
       "      <td>[just, a, important, a, the, actual, holidayi, dont, know, anybody, who, doesnt, use, this, site, prior, to, make, travel, plan, we, all, want, to, enjoy, our, holiday, and, get, our, money, worth, so, do, some, research, prior, to, your, trip, be, become, more, and, more, important, fellow, traveller, write, review, on, accommodation, restaurant, and, attraction, on, the, whole, review, be, honest, tothepoint, and, highlight, the, pro, and, con, and, some, of, them, have, get, handy, tip, for, make, your, trip, that, little, bit, easy, the, site, be, pretty, easy, to, navigate, once, you, be, use, to, it, and, best, of, ...]</td>\n",
       "    </tr>\n",
       "    <tr>\n",
       "      <th>3169</th>\n",
       "      <td>GB</td>\n",
       "      <td>[not, fairthey, deactivate, my, account, and, delete, my, forum, and, review, i, think, they, be, protect, splendia, because, it, be, about, splendias, not, give, back, the, depositsdate, of, experience, may]</td>\n",
       "    </tr>\n",
       "    <tr>\n",
       "      <th>3170</th>\n",
       "      <td>8 reviews</td>\n",
       "      <td>[excellent, safe, informative, sitetripadvisors, business, be, base, on, user, write, review, of, hotel, airline, and, tour, package, i, have, be, use, this, site, and, find, it, serious, and, reliable, they, review, all, review, submit, to, them, so, when, you, post, there, a, short, delay, while, i, guess, one, of, their, staff, take, a, quick, look, at, your, post, they, post, ad, on, the, site, and, also, have, their, own, hotel, book, system, which, you, dont, have, to, use, in, order, to, get, the, info, and, which, be, not, intrusive, at, all, you, dont, need, to, register, to, use, the, site, ...]</td>\n",
       "    </tr>\n",
       "  </tbody>\n",
       "</table>\n",
       "<p>3171 rows × 2 columns</p>\n",
       "</div>"
      ],
      "text/plain": [
       "                   date  \\\n",
       "0               Summary   \n",
       "1                 About   \n",
       "2               Reviews   \n",
       "3                    CZ   \n",
       "4              1 review   \n",
       "...                 ...   \n",
       "3166                 US   \n",
       "3167          4 reviews   \n",
       "3168  November 26, 2011   \n",
       "3169                 GB   \n",
       "3170          8 reviews   \n",
       "\n",
       "                                                                                                                                                                                                                                                                                                                                                                                                                                                                                                                                                                                                                                                                                                                                      lemmatized_reviews  \n",
       "0                                                                                                                                                                                                                                                                                                                                                                                                                                                                                                                                                                                                                                                                                       [terrible, customerbusiness, supportdate, of, experience, april]  \n",
       "1     [tripadvisor, thrives, on, hate, not, on, honest, reviewsit, ’, s, no, secret, anymore, tripadvisor, have, become, the, platform, for, hate, and, resentmentyou, spend, enormous, amount, on, google, ad, to, build, a, positive, image, but, reality, tell, a, different, story, just, search, tripadvisor, reputation, and, youll, see, the, truth, for, yourselfif, every, customer, be, obligate, to, leave, a, review, tripadvisor, wouldnt, survive, —, the, positive, feedback, would, be, so, overwhelm, that, the, hate, machine, you, rely, on, would, collapse, overnightweve, receive, multiple, traveler, choice, award, over, the, year, but, we, consciously, choose, not, to, display, or, advertise, them, why, because, in, ...]  \n",
       "2                                                                                                                                                         [review, on, restaurant, when, not, dinedok, so, weve, have, a, few, star, review, which, be, fair, enough, on, our, new, business, however, most, be, from, people, who, havent, book, although, clearly, advertised, on, our, social, medium, and, website, we, strongly, advise, to, book, a, table, to, avoid, disappointment, now, how, be, it, fair, to, leave, a, star, review, because, the, restaurant, be, too, busy, to, accept, you, i, have, report, this, to, trip, advisor, but, apparently, it, meet, their, guideline, this, seem, really, unfairdate, of, experience, april]  \n",
       "3                                                                                                                                                                                                                                                                                                                                                                  [tripadvisor, be, the, bad, travel, sitetripadvisor, be, the, bad, travel, site, on, the, internet, you, cant, find, anything, other, than, a, rabbit, hole, that, lead, off, into, the, carrot, patch, unbelievably, bad, program, and, impossible, to, maneuver, even, for, internetsavvy, people, like, myself, a, major, thumb, down, on, tripadvisordate, of, experience, april]  \n",
       "4                                                                                                                                                                                                                                                                                                                                                                                                                                                                [they, refuse, to, publish, my, negative…they, refuse, to, publish, my, negative, review, on, brahma, temple, in, pushkar, and, mathura, both, in, india, because, system, think, that, they, might, be, violate, guideline, which, they, obviously, dont, date, of, experience, april]  \n",
       "...                                                                                                                                                                                                                                                                                                                                                                                                                                                                                                                                                                                                                                                                                                                                                  ...  \n",
       "3166                                                                                                                                                                                                                                                                                                                                                                                                                                                                                        [use, and, learnthe, information, on, trip, advisor, be, mind, blowinglots, of, place, and, lot, of, reviewsi, dont, book, anywhere, untill, i, have, checked, out, the, place, on, trip, advisorohh, and, it, free, to, usedate, of, experience, september]  \n",
       "3167                                                                                                                                                                                                                                                                                                                                                                                                                                                                                                                                                                                                                   [value, servicei, wouldnt, book, any, hotel, without, look, at, travel, advisor, first, fantasticdate, of, experience, september]  \n",
       "3168                                                                                           [just, a, important, a, the, actual, holidayi, dont, know, anybody, who, doesnt, use, this, site, prior, to, make, travel, plan, we, all, want, to, enjoy, our, holiday, and, get, our, money, worth, so, do, some, research, prior, to, your, trip, be, become, more, and, more, important, fellow, traveller, write, review, on, accommodation, restaurant, and, attraction, on, the, whole, review, be, honest, tothepoint, and, highlight, the, pro, and, con, and, some, of, them, have, get, handy, tip, for, make, your, trip, that, little, bit, easy, the, site, be, pretty, easy, to, navigate, once, you, be, use, to, it, and, best, of, ...]  \n",
       "3169                                                                                                                                                                                                                                                                                                                                                                                                                                                                                                                                    [not, fairthey, deactivate, my, account, and, delete, my, forum, and, review, i, think, they, be, protect, splendia, because, it, be, about, splendias, not, give, back, the, depositsdate, of, experience, may]  \n",
       "3170                                                                                                                [excellent, safe, informative, sitetripadvisors, business, be, base, on, user, write, review, of, hotel, airline, and, tour, package, i, have, be, use, this, site, and, find, it, serious, and, reliable, they, review, all, review, submit, to, them, so, when, you, post, there, a, short, delay, while, i, guess, one, of, their, staff, take, a, quick, look, at, your, post, they, post, ad, on, the, site, and, also, have, their, own, hotel, book, system, which, you, dont, have, to, use, in, order, to, get, the, info, and, which, be, not, intrusive, at, all, you, dont, need, to, register, to, use, the, site, ...]  \n",
       "\n",
       "[3171 rows x 2 columns]"
      ]
     },
     "execution_count": 38,
     "metadata": {},
     "output_type": "execute_result"
    }
   ],
   "source": [
    "df"
   ]
  },
  {
   "cell_type": "markdown",
   "id": "ea38d48b-d790-4843-80ad-d043b84a8683",
   "metadata": {},
   "source": [
    "# Perform Sentiment Analysis Using VADER"
   ]
  },
  {
   "cell_type": "code",
   "execution_count": 39,
   "id": "cb509290-ffd2-4107-b48b-7829f71ab646",
   "metadata": {},
   "outputs": [
    {
     "name": "stderr",
     "output_type": "stream",
     "text": [
      "[nltk_data] Downloading package vader_lexicon to\n",
      "[nltk_data]     C:\\Users\\priya\\AppData\\Roaming\\nltk_data...\n",
      "[nltk_data]   Package vader_lexicon is already up-to-date!\n"
     ]
    }
   ],
   "source": [
    "import nltk\n",
    "nltk.download('vader_lexicon')\n",
    "\n",
    "from nltk.sentiment.vader import SentimentIntensityAnalyzer\n"
   ]
  },
  {
   "cell_type": "code",
   "execution_count": 40,
   "id": "a3bc9281-da65-4e8f-ae57-edfe937a7b86",
   "metadata": {},
   "outputs": [],
   "source": [
    "sia = SentimentIntensityAnalyzer()"
   ]
  },
  {
   "cell_type": "code",
   "execution_count": 42,
   "id": "b769eb2b-1367-490d-9234-8d98175c008e",
   "metadata": {},
   "outputs": [],
   "source": [
    "df['lemmatized_reviews'] = df['lemmatized_reviews'].apply(lambda x: ' '.join(x) if isinstance(x, list) else str(x))"
   ]
  },
  {
   "cell_type": "code",
   "execution_count": 43,
   "id": "26be1158-d7ed-4c57-b51a-bfa68ef481a7",
   "metadata": {},
   "outputs": [],
   "source": [
    "df[\"positive\"] = [sia.polarity_scores(i)[\"pos\"] for i in df[\"lemmatized_reviews\"]]\n",
    "df[\"negative\"] = [sia.polarity_scores(i)[\"neg\"] for i in df[\"lemmatized_reviews\"]]\n",
    "df[\"neutral\"] = [sia.polarity_scores(i) [\"neu\"] for i in df[\"lemmatized_reviews\"]]"
   ]
  },
  {
   "cell_type": "code",
   "execution_count": 44,
   "id": "103f183a-cf0e-4fed-b2bf-d71698b7c3c3",
   "metadata": {},
   "outputs": [],
   "source": [
    "x = sum(df[\"positive\"])\n",
    "y = sum(df[\"negative\"])\n",
    "z = sum(df[\"neutral\"])"
   ]
  },
  {
   "cell_type": "code",
   "execution_count": 45,
   "id": "ebe1e259-b2a6-49e8-8a3c-1d5c28bddb67",
   "metadata": {},
   "outputs": [],
   "source": [
    "def sia_scores(a,b,c):\n",
    "    if (a>b) and (a>c):\n",
    "        print(\"Positive\")\n",
    "    elif (b>a) and(b>c):\n",
    "        print(\"negative\")\n",
    "    else:\n",
    "        print(\"neutral\")\n",
    "    \n",
    "    \n",
    "    \n",
    "\n",
    "    "
   ]
  },
  {
   "cell_type": "code",
   "execution_count": 46,
   "id": "8e43e9d9-c8d1-4863-b4a7-5d32c05ef07c",
   "metadata": {},
   "outputs": [
    {
     "name": "stdout",
     "output_type": "stream",
     "text": [
      "neutral\n"
     ]
    }
   ],
   "source": [
    "sia_scores(x,y,z)"
   ]
  },
  {
   "cell_type": "code",
   "execution_count": null,
   "id": "c315085e-ba62-4abe-8ea3-5b6d8e411372",
   "metadata": {},
   "outputs": [],
   "source": []
  }
 ],
 "metadata": {
  "kernelspec": {
   "display_name": "Python 3 (ipykernel)",
   "language": "python",
   "name": "python3"
  },
  "language_info": {
   "codemirror_mode": {
    "name": "ipython",
    "version": 3
   },
   "file_extension": ".py",
   "mimetype": "text/x-python",
   "name": "python",
   "nbconvert_exporter": "python",
   "pygments_lexer": "ipython3",
   "version": "3.12.6"
  }
 },
 "nbformat": 4,
 "nbformat_minor": 5
}
